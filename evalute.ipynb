{
 "cells": [
  {
   "cell_type": "markdown",
   "metadata": {},
   "source": [
    "## processing file test ##\n"
   ]
  },
  {
   "cell_type": "code",
   "execution_count": 80,
   "metadata": {},
   "outputs": [],
   "source": [
    "import csv\n",
    "import pandas as pd"
   ]
  },
  {
   "cell_type": "code",
   "execution_count": 81,
   "metadata": {},
   "outputs": [],
   "source": [
    "test = pd.read_excel('du lieu quy che DT_chatGPT tổng hợp_Ha Anh_15_10.xlsx')"
   ]
  },
  {
   "cell_type": "code",
   "execution_count": 82,
   "metadata": {},
   "outputs": [],
   "source": [
    "test.columns = test.iloc[0]\n",
    "test.drop(test.index[0], inplace=True)"
   ]
  },
  {
   "cell_type": "code",
   "execution_count": 83,
   "metadata": {},
   "outputs": [],
   "source": [
    "test = test[['STT', 'Câu hỏi', 'Câu trả lời', 'Văn bản tham chiếu']]"
   ]
  },
  {
   "cell_type": "code",
   "execution_count": 84,
   "metadata": {},
   "outputs": [
    {
     "data": {
      "text/html": [
       "<div>\n",
       "<style scoped>\n",
       "    .dataframe tbody tr th:only-of-type {\n",
       "        vertical-align: middle;\n",
       "    }\n",
       "\n",
       "    .dataframe tbody tr th {\n",
       "        vertical-align: top;\n",
       "    }\n",
       "\n",
       "    .dataframe thead th {\n",
       "        text-align: right;\n",
       "    }\n",
       "</style>\n",
       "<table border=\"1\" class=\"dataframe\">\n",
       "  <thead>\n",
       "    <tr style=\"text-align: right;\">\n",
       "      <th></th>\n",
       "      <th>STT</th>\n",
       "      <th>Câu hỏi</th>\n",
       "      <th>Câu trả lời</th>\n",
       "      <th>Văn bản tham chiếu</th>\n",
       "    </tr>\n",
       "  </thead>\n",
       "  <tbody>\n",
       "    <tr>\n",
       "      <th>1</th>\n",
       "      <td>1</td>\n",
       "      <td>Hệ thống tổ chức và quản lý đào tạo đại học tạ...</td>\n",
       "      <td>Hệ thống tổ chức và quản lý đào tạo đại học tạ...</td>\n",
       "      <td>Hệ thống tổ chức và quản lý đào tạo đại học gồ...</td>\n",
       "    </tr>\n",
       "    <tr>\n",
       "      <th>2</th>\n",
       "      <td>2</td>\n",
       "      <td>Đơn vị nào chịu trách nhiệm giảng dạy các học ...</td>\n",
       "      <td>Trường Đại học Ngoại ngữ giảng dạy các học phầ...</td>\n",
       "      <td>Các học phần ngoại ngữ chung do Trường Đại học...</td>\n",
       "    </tr>\n",
       "    <tr>\n",
       "      <th>3</th>\n",
       "      <td>3</td>\n",
       "      <td>Các học phần lý luận chính trị tại ĐHQGHN do đ...</td>\n",
       "      <td>Các học phần lý luận chính trị do Trường Đại h...</td>\n",
       "      <td>Các học phần lý luận chính trị do Trường Đại h...</td>\n",
       "    </tr>\n",
       "    <tr>\n",
       "      <th>4</th>\n",
       "      <td>4</td>\n",
       "      <td>Các học phần pháp luật tại ĐHQGHN do đơn vị nà...</td>\n",
       "      <td>Các học phần pháp luật do Trường Đại học Luật ...</td>\n",
       "      <td>Các học phần pháp luật do Trường Đại học Luật ...</td>\n",
       "    </tr>\n",
       "    <tr>\n",
       "      <th>5</th>\n",
       "      <td>5</td>\n",
       "      <td>các học phần giáo dục quốc phòng - an ninh tại...</td>\n",
       "      <td>Các học phần giáo dục quốc phòng - an ninh do ...</td>\n",
       "      <td>Các học phần giáo dục quốc phòng - an ninh do ...</td>\n",
       "    </tr>\n",
       "    <tr>\n",
       "      <th>...</th>\n",
       "      <td>...</td>\n",
       "      <td>...</td>\n",
       "      <td>...</td>\n",
       "      <td>...</td>\n",
       "    </tr>\n",
       "    <tr>\n",
       "      <th>1701</th>\n",
       "      <td>1705</td>\n",
       "      <td>Nếu một nghiên cứu sinh nộp hồ sơ bảo vệ luận ...</td>\n",
       "      <td>Theo Điều 44 khoản 2, nếu nghiên cứu sinh nộp ...</td>\n",
       "      <td>\"Việc nộp hồ sơ bảo vệ luận án muộn từ 06 thán...</td>\n",
       "    </tr>\n",
       "    <tr>\n",
       "      <th>1702</th>\n",
       "      <td>1706</td>\n",
       "      <td>Tôi muốn biết việc áp dụng quy định về tiêu ch...</td>\n",
       "      <td>Theo Điều 45 khoản 2, các đơn vị đào tạo quyết...</td>\n",
       "      <td>\"Đơn vị đào tạo quyết định việc áp dụng khoản ...</td>\n",
       "    </tr>\n",
       "    <tr>\n",
       "      <th>1703</th>\n",
       "      <td>1707</td>\n",
       "      <td>Tôi muốn biết quy chế mới này có hiệu lực từ k...</td>\n",
       "      <td>Theo Điều 45 khoản 1, Quy chế này có hiệu lực ...</td>\n",
       "      <td>\"Quy chế này có hiệu lực kể từ ngày ký và áp d...</td>\n",
       "    </tr>\n",
       "    <tr>\n",
       "      <th>1704</th>\n",
       "      <td>1708</td>\n",
       "      <td>Tôi muốn biết liệu đơn vị đào tạo có thể ban h...</td>\n",
       "      <td>Theo Điều 46 khoản 1, các đơn vị đào tạo có th...</td>\n",
       "      <td>\"Các đơn vị đào tạo có thể ban hành các quy đị...</td>\n",
       "    </tr>\n",
       "    <tr>\n",
       "      <th>1705</th>\n",
       "      <td>1709</td>\n",
       "      <td>Tôi muốn biết nếu có trường hợp đặc biệt cần x...</td>\n",
       "      <td>Theo Điều 46 khoản 2, trong trường hợp đặc biệ...</td>\n",
       "      <td>\"Trường hợp đặc biệt, đơn vị báo cáo Giám đốc ...</td>\n",
       "    </tr>\n",
       "  </tbody>\n",
       "</table>\n",
       "<p>1705 rows × 4 columns</p>\n",
       "</div>"
      ],
      "text/plain": [
       "0      STT                                            Câu hỏi  \\\n",
       "1        1  Hệ thống tổ chức và quản lý đào tạo đại học tạ...   \n",
       "2        2  Đơn vị nào chịu trách nhiệm giảng dạy các học ...   \n",
       "3        3  Các học phần lý luận chính trị tại ĐHQGHN do đ...   \n",
       "4        4  Các học phần pháp luật tại ĐHQGHN do đơn vị nà...   \n",
       "5        5  các học phần giáo dục quốc phòng - an ninh tại...   \n",
       "...    ...                                                ...   \n",
       "1701  1705  Nếu một nghiên cứu sinh nộp hồ sơ bảo vệ luận ...   \n",
       "1702  1706  Tôi muốn biết việc áp dụng quy định về tiêu ch...   \n",
       "1703  1707  Tôi muốn biết quy chế mới này có hiệu lực từ k...   \n",
       "1704  1708  Tôi muốn biết liệu đơn vị đào tạo có thể ban h...   \n",
       "1705  1709  Tôi muốn biết nếu có trường hợp đặc biệt cần x...   \n",
       "\n",
       "0                                           Câu trả lời  \\\n",
       "1     Hệ thống tổ chức và quản lý đào tạo đại học tạ...   \n",
       "2     Trường Đại học Ngoại ngữ giảng dạy các học phầ...   \n",
       "3     Các học phần lý luận chính trị do Trường Đại h...   \n",
       "4     Các học phần pháp luật do Trường Đại học Luật ...   \n",
       "5     Các học phần giáo dục quốc phòng - an ninh do ...   \n",
       "...                                                 ...   \n",
       "1701  Theo Điều 44 khoản 2, nếu nghiên cứu sinh nộp ...   \n",
       "1702  Theo Điều 45 khoản 2, các đơn vị đào tạo quyết...   \n",
       "1703  Theo Điều 45 khoản 1, Quy chế này có hiệu lực ...   \n",
       "1704  Theo Điều 46 khoản 1, các đơn vị đào tạo có th...   \n",
       "1705  Theo Điều 46 khoản 2, trong trường hợp đặc biệ...   \n",
       "\n",
       "0                                    Văn bản tham chiếu  \n",
       "1     Hệ thống tổ chức và quản lý đào tạo đại học gồ...  \n",
       "2     Các học phần ngoại ngữ chung do Trường Đại học...  \n",
       "3     Các học phần lý luận chính trị do Trường Đại h...  \n",
       "4     Các học phần pháp luật do Trường Đại học Luật ...  \n",
       "5     Các học phần giáo dục quốc phòng - an ninh do ...  \n",
       "...                                                 ...  \n",
       "1701  \"Việc nộp hồ sơ bảo vệ luận án muộn từ 06 thán...  \n",
       "1702  \"Đơn vị đào tạo quyết định việc áp dụng khoản ...  \n",
       "1703  \"Quy chế này có hiệu lực kể từ ngày ký và áp d...  \n",
       "1704  \"Các đơn vị đào tạo có thể ban hành các quy đị...  \n",
       "1705  \"Trường hợp đặc biệt, đơn vị báo cáo Giám đốc ...  \n",
       "\n",
       "[1705 rows x 4 columns]"
      ]
     },
     "execution_count": 84,
     "metadata": {},
     "output_type": "execute_result"
    }
   ],
   "source": [
    "test"
   ]
  },
  {
   "cell_type": "code",
   "execution_count": 85,
   "metadata": {},
   "outputs": [],
   "source": [
    "import re\n",
    "\n",
    "\n",
    "test['Văn bản tham chiếu'] = test['Văn bản tham chiếu'].str.lower()\n",
    "# Loại bỏ các ký tự đặc biệt (chỉ giữ chữ cái, số và khoảng trắng)\n",
    "test['Văn bản tham chiếu'] = test['Văn bản tham chiếu'].apply(lambda x: re.sub(r'[^a-z0-9à-ỹ\\s]', '', str(x)))\n"
   ]
  },
  {
   "cell_type": "code",
   "execution_count": 86,
   "metadata": {},
   "outputs": [
    {
     "data": {
      "text/html": [
       "<div>\n",
       "<style scoped>\n",
       "    .dataframe tbody tr th:only-of-type {\n",
       "        vertical-align: middle;\n",
       "    }\n",
       "\n",
       "    .dataframe tbody tr th {\n",
       "        vertical-align: top;\n",
       "    }\n",
       "\n",
       "    .dataframe thead th {\n",
       "        text-align: right;\n",
       "    }\n",
       "</style>\n",
       "<table border=\"1\" class=\"dataframe\">\n",
       "  <thead>\n",
       "    <tr style=\"text-align: right;\">\n",
       "      <th></th>\n",
       "      <th>STT</th>\n",
       "      <th>Câu hỏi</th>\n",
       "      <th>Câu trả lời</th>\n",
       "      <th>Văn bản tham chiếu</th>\n",
       "    </tr>\n",
       "  </thead>\n",
       "  <tbody>\n",
       "    <tr>\n",
       "      <th>1</th>\n",
       "      <td>1</td>\n",
       "      <td>Hệ thống tổ chức và quản lý đào tạo đại học tạ...</td>\n",
       "      <td>Hệ thống tổ chức và quản lý đào tạo đại học tạ...</td>\n",
       "      <td>hệ thống tổ chức và quản lý đào tạo đại học gồ...</td>\n",
       "    </tr>\n",
       "    <tr>\n",
       "      <th>2</th>\n",
       "      <td>2</td>\n",
       "      <td>Đơn vị nào chịu trách nhiệm giảng dạy các học ...</td>\n",
       "      <td>Trường Đại học Ngoại ngữ giảng dạy các học phầ...</td>\n",
       "      <td>các học phần ngoại ngữ chung do trường đại học...</td>\n",
       "    </tr>\n",
       "    <tr>\n",
       "      <th>3</th>\n",
       "      <td>3</td>\n",
       "      <td>Các học phần lý luận chính trị tại ĐHQGHN do đ...</td>\n",
       "      <td>Các học phần lý luận chính trị do Trường Đại h...</td>\n",
       "      <td>các học phần lý luận chính trị do trường đại h...</td>\n",
       "    </tr>\n",
       "    <tr>\n",
       "      <th>4</th>\n",
       "      <td>4</td>\n",
       "      <td>Các học phần pháp luật tại ĐHQGHN do đơn vị nà...</td>\n",
       "      <td>Các học phần pháp luật do Trường Đại học Luật ...</td>\n",
       "      <td>các học phần pháp luật do trường đại học luật ...</td>\n",
       "    </tr>\n",
       "    <tr>\n",
       "      <th>5</th>\n",
       "      <td>5</td>\n",
       "      <td>các học phần giáo dục quốc phòng - an ninh tại...</td>\n",
       "      <td>Các học phần giáo dục quốc phòng - an ninh do ...</td>\n",
       "      <td>các học phần giáo dục quốc phòng  an ninh do t...</td>\n",
       "    </tr>\n",
       "    <tr>\n",
       "      <th>...</th>\n",
       "      <td>...</td>\n",
       "      <td>...</td>\n",
       "      <td>...</td>\n",
       "      <td>...</td>\n",
       "    </tr>\n",
       "    <tr>\n",
       "      <th>1701</th>\n",
       "      <td>1705</td>\n",
       "      <td>Nếu một nghiên cứu sinh nộp hồ sơ bảo vệ luận ...</td>\n",
       "      <td>Theo Điều 44 khoản 2, nếu nghiên cứu sinh nộp ...</td>\n",
       "      <td>việc nộp hồ sơ bảo vệ luận án muộn từ 06 tháng...</td>\n",
       "    </tr>\n",
       "    <tr>\n",
       "      <th>1702</th>\n",
       "      <td>1706</td>\n",
       "      <td>Tôi muốn biết việc áp dụng quy định về tiêu ch...</td>\n",
       "      <td>Theo Điều 45 khoản 2, các đơn vị đào tạo quyết...</td>\n",
       "      <td>đơn vị đào tạo quyết định việc áp dụng khoản 1...</td>\n",
       "    </tr>\n",
       "    <tr>\n",
       "      <th>1703</th>\n",
       "      <td>1707</td>\n",
       "      <td>Tôi muốn biết quy chế mới này có hiệu lực từ k...</td>\n",
       "      <td>Theo Điều 45 khoản 1, Quy chế này có hiệu lực ...</td>\n",
       "      <td>quy chế này có hiệu lực kể từ ngày ký và áp dụ...</td>\n",
       "    </tr>\n",
       "    <tr>\n",
       "      <th>1704</th>\n",
       "      <td>1708</td>\n",
       "      <td>Tôi muốn biết liệu đơn vị đào tạo có thể ban h...</td>\n",
       "      <td>Theo Điều 46 khoản 1, các đơn vị đào tạo có th...</td>\n",
       "      <td>các đơn vị đào tạo có thể ban hành các quy địn...</td>\n",
       "    </tr>\n",
       "    <tr>\n",
       "      <th>1705</th>\n",
       "      <td>1709</td>\n",
       "      <td>Tôi muốn biết nếu có trường hợp đặc biệt cần x...</td>\n",
       "      <td>Theo Điều 46 khoản 2, trong trường hợp đặc biệ...</td>\n",
       "      <td>trường hợp đặc biệt đơn vị báo cáo giám đốc đạ...</td>\n",
       "    </tr>\n",
       "  </tbody>\n",
       "</table>\n",
       "<p>1705 rows × 4 columns</p>\n",
       "</div>"
      ],
      "text/plain": [
       "0      STT                                            Câu hỏi  \\\n",
       "1        1  Hệ thống tổ chức và quản lý đào tạo đại học tạ...   \n",
       "2        2  Đơn vị nào chịu trách nhiệm giảng dạy các học ...   \n",
       "3        3  Các học phần lý luận chính trị tại ĐHQGHN do đ...   \n",
       "4        4  Các học phần pháp luật tại ĐHQGHN do đơn vị nà...   \n",
       "5        5  các học phần giáo dục quốc phòng - an ninh tại...   \n",
       "...    ...                                                ...   \n",
       "1701  1705  Nếu một nghiên cứu sinh nộp hồ sơ bảo vệ luận ...   \n",
       "1702  1706  Tôi muốn biết việc áp dụng quy định về tiêu ch...   \n",
       "1703  1707  Tôi muốn biết quy chế mới này có hiệu lực từ k...   \n",
       "1704  1708  Tôi muốn biết liệu đơn vị đào tạo có thể ban h...   \n",
       "1705  1709  Tôi muốn biết nếu có trường hợp đặc biệt cần x...   \n",
       "\n",
       "0                                           Câu trả lời  \\\n",
       "1     Hệ thống tổ chức và quản lý đào tạo đại học tạ...   \n",
       "2     Trường Đại học Ngoại ngữ giảng dạy các học phầ...   \n",
       "3     Các học phần lý luận chính trị do Trường Đại h...   \n",
       "4     Các học phần pháp luật do Trường Đại học Luật ...   \n",
       "5     Các học phần giáo dục quốc phòng - an ninh do ...   \n",
       "...                                                 ...   \n",
       "1701  Theo Điều 44 khoản 2, nếu nghiên cứu sinh nộp ...   \n",
       "1702  Theo Điều 45 khoản 2, các đơn vị đào tạo quyết...   \n",
       "1703  Theo Điều 45 khoản 1, Quy chế này có hiệu lực ...   \n",
       "1704  Theo Điều 46 khoản 1, các đơn vị đào tạo có th...   \n",
       "1705  Theo Điều 46 khoản 2, trong trường hợp đặc biệ...   \n",
       "\n",
       "0                                    Văn bản tham chiếu  \n",
       "1     hệ thống tổ chức và quản lý đào tạo đại học gồ...  \n",
       "2     các học phần ngoại ngữ chung do trường đại học...  \n",
       "3     các học phần lý luận chính trị do trường đại h...  \n",
       "4     các học phần pháp luật do trường đại học luật ...  \n",
       "5     các học phần giáo dục quốc phòng  an ninh do t...  \n",
       "...                                                 ...  \n",
       "1701  việc nộp hồ sơ bảo vệ luận án muộn từ 06 tháng...  \n",
       "1702  đơn vị đào tạo quyết định việc áp dụng khoản 1...  \n",
       "1703  quy chế này có hiệu lực kể từ ngày ký và áp dụ...  \n",
       "1704  các đơn vị đào tạo có thể ban hành các quy địn...  \n",
       "1705  trường hợp đặc biệt đơn vị báo cáo giám đốc đạ...  \n",
       "\n",
       "[1705 rows x 4 columns]"
      ]
     },
     "execution_count": 86,
     "metadata": {},
     "output_type": "execute_result"
    }
   ],
   "source": [
    "test"
   ]
  },
  {
   "cell_type": "code",
   "execution_count": 87,
   "metadata": {},
   "outputs": [],
   "source": [
    "test.to_csv('test.csv', index=False)"
   ]
  },
  {
   "cell_type": "markdown",
   "metadata": {},
   "source": [
    "## visualizer Relevant Documents ##"
   ]
  },
  {
   "cell_type": "code",
   "execution_count": 88,
   "metadata": {},
   "outputs": [
    {
     "data": {
      "image/png": "[encoded data removed]",
      "text/plain": [
       "<Figure size 1200x600 with 2 Axes>"
      ]
     },
     "metadata": {},
     "output_type": "display_data"
    }
   ],
   "source": [
    "import pandas as pd\n",
    "import matplotlib.pyplot as plt\n",
    "\n",
    "\n",
    "# Tính độ dài mỗi dòng theo ký tự và token\n",
    "test['char_length'] = test['Văn bản tham chiếu'].apply(lambda x: len(str(x)))  # Độ dài theo ký tự\n",
    "test['token_length'] = test['Văn bản tham chiếu'].apply(lambda x: len(str(x).split()))  # Độ dài theo token\n",
    "\n",
    "# Trực quan hóa phân bố độ dài theo ký tự\n",
    "plt.figure(figsize=(12, 6))\n",
    "\n",
    "# Biểu đồ cho phân bố độ dài theo ký tự\n",
    "plt.subplot(1, 2, 1)\n",
    "plt.hist(test['char_length'], bins=10, color='skyblue', edgecolor='black')\n",
    "plt.title('Distribution of Text Length by Characters')\n",
    "plt.xlabel('Number of Characters')\n",
    "plt.ylabel('Frequency')\n",
    "\n",
    "# Biểu đồ cho phân bố độ dài theo token\n",
    "plt.subplot(1, 2, 2)\n",
    "plt.hist(test['token_length'], bins=10, color='salmon', edgecolor='black')\n",
    "plt.title('Distribution of Text Length by Tokens')\n",
    "plt.xlabel('Number of Tokens')\n",
    "plt.ylabel('Frequency')\n",
    "\n",
    "plt.tight_layout()\n",
    "plt.show()\n"
   ]
  },
  {
   "cell_type": "code",
   "execution_count": 89,
   "metadata": {},
   "outputs": [
    {
     "data": {
      "image/png": "[encoded data removed]",
      "text/plain": [
       "<Figure size 1200x600 with 2 Axes>"
      ]
     },
     "metadata": {},
     "output_type": "display_data"
    }
   ],
   "source": [
    "# Trực quan hóa bằng Boxplot cho độ dài theo ký tự và token\n",
    "plt.figure(figsize=(12, 6))\n",
    "\n",
    "plt.subplot(1, 2, 1)\n",
    "plt.boxplot(test['char_length'], vert=False, patch_artist=True)\n",
    "plt.title('Boxplot of Text Length by Characters')\n",
    "plt.xlabel('Number of Characters')\n",
    "\n",
    "plt.subplot(1, 2, 2)\n",
    "plt.boxplot(test['token_length'], vert=False, patch_artist=True)\n",
    "plt.title('Boxplot of Text Length by Tokens')\n",
    "plt.xlabel('Number of Tokens')\n",
    "\n",
    "plt.tight_layout()\n",
    "plt.show()"
   ]
  },
  {
   "cell_type": "code",
   "execution_count": 90,
   "metadata": {},
   "outputs": [
    {
     "data": {
      "image/png": "[encoded data removed]",
      "text/plain": [
       "<Figure size 600x600 with 1 Axes>"
      ]
     },
     "metadata": {},
     "output_type": "display_data"
    }
   ],
   "source": [
    "test['length_category'] = pd.cut(test['token_length'], bins=[0, 25, 50, float('inf')], labels=['Short(<25 tokens)', 'Medium', 'Long(>50 tokens)'])\n",
    "\n",
    "# Tính số lượng cho mỗi nhóm\n",
    "length_counts = test['length_category'].value_counts()\n",
    "\n",
    "# Trực quan hóa bằng biểu đồ hình tròn\n",
    "plt.figure(figsize=(6, 6))\n",
    "plt.pie(length_counts, labels=length_counts.index, autopct='%1.1f%%', startangle=140, colors=['skyblue', 'salmon', 'lightgreen'])\n",
    "plt.title('Proportion of Token Length Categories')\n",
    "plt.show()"
   ]
  },
  {
   "cell_type": "markdown",
   "metadata": {},
   "source": [
    "## processing result ##"
   ]
  },
  {
   "cell_type": "code",
   "execution_count": 138,
   "metadata": {},
   "outputs": [],
   "source": [
    "import processing_1 as pr1\n",
    "result_1=pr1.processing('result.csv')"
   ]
  },
  {
   "cell_type": "code",
   "execution_count": 139,
   "metadata": {},
   "outputs": [],
   "source": [
    "result_2=pd.read_csv('retrieval_result_1-800.csv')\n",
    "result_2 = result_2[['Question', 'rank','text']]\n",
    "result_2['text'] = result_2['text'].str.lower()\n",
    "result_2['text'] = result_2['text'].replace(r'[^a-zA-Z0-9À-ỹ\\s]', '', regex=True)\n",
    "    "
   ]
  },
  {
   "cell_type": "code",
   "execution_count": 152,
   "metadata": {},
   "outputs": [
    {
     "data": {
      "text/plain": [
       "'các học phần ngoại ngữ chung do trường đại học ngoại ngữ giảng dạy trừ các đơn vị có ngànhkhoabộ môn đào tạo ngoại ngữ'"
      ]
     },
     "execution_count": 152,
     "metadata": {},
     "output_type": "execute_result"
    }
   ],
   "source": [
    "test['Văn bản tham chiếu'].iloc[1]"
   ]
  },
  {
   "cell_type": "code",
   "execution_count": 153,
   "metadata": {},
   "outputs": [
    {
     "data": {
      "text/plain": [
       "'a các học phần ngoại ngữ chung do trường đại học ngoại ngữ giảng dạy trừ các đơn vị có ngànhkhoabộ môn đào tạo ngoại ngữ'"
      ]
     },
     "execution_count": 153,
     "metadata": {},
     "output_type": "execute_result"
    }
   ],
   "source": [
    "result_1['Văn bản tham chiếu'].iloc[4]"
   ]
  },
  {
   "cell_type": "code",
   "execution_count": 145,
   "metadata": {},
   "outputs": [
    {
     "data": {
      "text/plain": [
       "'đại học quốc gia hà nội cộng hòa xã hội chủ nghĩa việt nam độc lập  tự do  hạnh phúc quy chế đào tạo đại học tại đại học quốc gia hà nội ban hành kèm theo quyết định số 3626qđđhqghn ngày 21 tháng 10 năm 2022 của giám đốc đại học quốc gia hà nội chương i những quy định chung điều 1 phạm vi điều chỉnh và đối tượng áp dụng 1 quy chế này quy định về đào tạo đại học theo hình thức chính quy và hình thức vừa làm vừa học tại đại học quốc gia hà nội bao gồm chương trình đào tạo và thời gian học tập tổ chức và quản lý đào tạo nghiên cứu khoa học của sinh viên quyền lợi và nghĩa vụ của giảng viên cố vấn học tập sinh viên kiểm tra thi và đánh giá kết quả học tập công nhận tốt nghiệp 2 quy chế này áp dụng cho các chương trình đào tạo do giám đốc đại học quốc gia hà nội hiệu trưởng các trường thành viên cấp bằng và các chương trình đào tạo liên kết với cơ sở giáo dục nước ngoài do đại học quốc gia hà nội cấp bằng hai bên cùng cấp bằng 3 quy chế này áp dụng đối với các đơn vị và cá nhân tham gia vào quá trình đào tạo đại học tại đại học quốc gia hà nội điều 2 phân cấp tổ chức và quản lý đào tạo 1 hệ thống tổ chức và quản lý đào tạo đại học gồm hai cấp cấp đại học quốc gia hà nội và cấp đơn vị đào tạo a đại học quốc gia hà nội  chỉ đạo và điều hành thống nhất công tác tổ chức và quản lý đào tạo theo cơ chế mở liên thông liên kết và hợp tác giữa các đơn vị đào tạo  điều phối sử dụng các nguồn lực chung nhân lực cơ sở vật chất  kỹ thuật phục vụ đào tạo  quản lý toàn diện công tác tổ chức và quản lý đào tạo của các trườngkhoa trực thuộc 40 b đơn vị đào tạo  tổ chức và quản lý đào tạo các ngành học học phần đã được đại học quốc gia hà nội giao nhiệm vụ công nhận kết quả học tập của sinh viên giữa các đơn vị đào tạo kết quả học tập của sinh viên được tích lũy ở các trường đối tác thông qua trao đổi sinh viên xây dựng học liệu dùng chung  xây dựng những ngành học mới chương trình đào tạo mới chú trọng các chương trình đào tạo có tính liên ngành báo cáo giám đốc đại học quốc gia hà nội xem xét thẩm định ban hành và giao nhiệm vụ tổ chức đào tạo 2 phân công giảng dạy các học phần chung a các học phần ngoại'"
      ]
     },
     "execution_count": 145,
     "metadata": {},
     "output_type": "execute_result"
    }
   ],
   "source": [
    "result_2['text'].iloc[0]"
   ]
  },
  {
   "cell_type": "markdown",
   "metadata": {},
   "source": [
    "## Evaluate RAG ##"
   ]
  },
  {
   "cell_type": "code",
   "execution_count": null,
   "metadata": {},
   "outputs": [
    {
     "name": "stdout",
     "output_type": "stream",
     "text": [
      "Average Precision: 0.5702245667499874\n",
      "Average Recall: 0.6116681069001977\n",
      "Average F-score: 0.5393952236972542\n"
     ]
    }
   ],
   "source": [
    "import pandas as pd\n",
    "\n",
    "\n",
    "#precision, recall, F-score\n",
    "def evaluate_similarity(reference_text, predicted_text):\n",
    "    reference_words = set(reference_text.split())\n",
    "    predicted_words = set(predicted_text.split())\n",
    "    \n",
    "    common_words = reference_words.intersection(predicted_words)\n",
    "    C = len(common_words)\n",
    "    X_len = len(reference_words)\n",
    "    X_hat_len = len(predicted_words)\n",
    "    \n",
    "    precision = C / X_hat_len if X_hat_len > 0 else 0\n",
    "    recall = C / X_len if X_len > 0 else 0\n",
    "    fscore = (2 * precision * recall) / (precision + recall) if (precision + recall) > 0 else 0\n",
    "    \n",
    "    return precision, recall, fscore\n",
    "test_indices = range(0, len(test), 1)\n",
    "result_indices = range(0, len(result_1), 4)\n",
    "\n",
    "pairs = zip(test_indices, result_indices)\n",
    "precision_list, recall_list, fscore_list = [], [], []\n",
    "\n",
    "for test_idx, result_idx in pairs:\n",
    "    if test_idx < len(test) and result_idx < len(result_1):\n",
    "        test_text = test['Văn bản tham chiếu'].iloc[test_idx]\n",
    "        predicted_text = result_1['Văn bản tham chiếu'].iloc[result_idx]\n",
    "        \n",
    "        precision, recall, fscore = evaluate_similarity(test_text, predicted_text)\n",
    "        \n",
    "        precision_list.append(precision)\n",
    "        recall_list.append(recall)\n",
    "        fscore_list.append(fscore)\n",
    "\n",
    "avg_precision = sum(precision_list) / len(precision_list) if precision_list else 0\n",
    "avg_recall = sum(recall_list) / len(recall_list) if recall_list else 0\n",
    "avg_fscore = sum(fscore_list) / len(fscore_list) if fscore_list else 0\n",
    "\n",
    "print(\"Average Precision:\", avg_precision)\n",
    "print(\"Average Recall:\", avg_recall)\n",
    "print(\"Average F-score:\", avg_fscore)\n"
   ]
  },
  {
   "cell_type": "code",
   "execution_count": 154,
   "metadata": {},
   "outputs": [
    {
     "name": "stdout",
     "output_type": "stream",
     "text": [
      "Average Precision: 0.12706958902329657\n",
      "Average Recall: 0.7914111739645175\n",
      "Average F-score: 0.2134121756887934\n"
     ]
    }
   ],
   "source": [
    "import pandas as pd\n",
    "\n",
    "\n",
    "#precision, recall, F-score\n",
    "def evaluate_similarity(reference_text, predicted_text):\n",
    "    reference_words = set(reference_text.split())\n",
    "    predicted_words = set(predicted_text.split())\n",
    "    \n",
    "    common_words = reference_words.intersection(predicted_words)\n",
    "    C = len(common_words)\n",
    "    X_len = len(reference_words)\n",
    "    X_hat_len = len(predicted_words)\n",
    "    \n",
    "    precision = C / X_hat_len if X_hat_len > 0 else 0\n",
    "    recall = C / X_len if X_len > 0 else 0\n",
    "    fscore = (2 * precision * recall) / (precision + recall) if (precision + recall) > 0 else 0\n",
    "    \n",
    "    return precision, recall, fscore\n",
    "test_indices = range(0, len(test), 1)\n",
    "result_indices = range(0, len(result_2), 3)\n",
    "\n",
    "pairs = zip(test_indices, result_indices)\n",
    "precision_list, recall_list, fscore_list = [], [], []\n",
    "\n",
    "for test_idx, result_idx in pairs:\n",
    "    if test_idx < len(test) and result_idx < len(result_2):\n",
    "        test_text = test['Văn bản tham chiếu'].iloc[test_idx]\n",
    "        predicted_text = result_2['text'].iloc[result_idx]\n",
    "        \n",
    "        precision, recall, fscore = evaluate_similarity(test_text, predicted_text)\n",
    "        \n",
    "        precision_list.append(precision)\n",
    "        recall_list.append(recall)\n",
    "        fscore_list.append(fscore)\n",
    "\n",
    "avg_precision = sum(precision_list) / len(precision_list) if precision_list else 0\n",
    "avg_recall = sum(recall_list) / len(recall_list) if recall_list else 0\n",
    "avg_fscore = sum(fscore_list) / len(fscore_list) if fscore_list else 0\n",
    "\n",
    "print(\"Average Precision:\", avg_precision)\n",
    "print(\"Average Recall:\", avg_recall)\n",
    "print(\"Average F-score:\", avg_fscore)\n"
   ]
  },
  {
   "cell_type": "code",
   "execution_count": 158,
   "metadata": {},
   "outputs": [],
   "source": [
    "num_rows = len(result_1)\n",
    "ranks = [0, 1, 2, 3] * (num_rows // 4)\n",
    "ranks += [0, 1, 2, 3][:num_rows % 4] \n",
    "result_1['rank'] = ranks"
   ]
  },
  {
   "cell_type": "code",
   "execution_count": 173,
   "metadata": {},
   "outputs": [
    {
     "name": "stdout",
     "output_type": "stream",
     "text": [
      "Mean Reciprocal Rank (MRR): 0.39833333333333343\n"
     ]
    }
   ],
   "source": [
    "import pandas as pd\n",
    "\n",
    "\n",
    "# Hàm tính tỉ lệ trùng khớp (similarity) giữa hai văn bản bằng Jaccard index\n",
    "def jaccard_similarity(str1, str2):\n",
    "    # Token hóa các văn bản thành từ và tính Jaccard similarity\n",
    "    set1 = set(str1.split())\n",
    "    set2 = set(str2.split())\n",
    "    intersection = set1.intersection(set2)\n",
    "    union = set1.union(set2)\n",
    "    return len(intersection) / len(union)\n",
    "\n",
    "# Hàm tính MRR\n",
    "def calculate_mrr(result_1, test):\n",
    "    mrr = 0\n",
    "    n = 100\n",
    "\n",
    "    for i in range(n):\n",
    "        test_text = test.iloc[i]['Văn bản tham chiếu']\n",
    "        \n",
    "        # Chia result_df thành các nhóm có 4 văn bản mỗi nhóm\n",
    "        for j in range(4*i, 4*i+4):\n",
    "            # Lấy 4 văn bản từ result_df (tương ứng với mỗi nhóm rank 0, 1, 2, 3)\n",
    "            result_subset = result_1.iloc[j:j+4]\n",
    "            \n",
    "            # Tính độ tương đồng giữa test_text và các văn bản trong result_subset\n",
    "            similarities = result_subset['Văn bản tham chiếu'].apply(lambda x: jaccard_similarity(test_text, x))\n",
    "        # Kiểm tra điều kiện trùng khớp > 75%\n",
    "        if max(similarities) >= 0.1:\n",
    "            # Lấy rank của văn bản có độ tương đồng cao nhất\n",
    "            rank = result_1.loc[similarities.idxmax(), 'rank']\n",
    "            mrr += 1 / (rank + 1)  # rank bắt đầu từ 0, nên cộng thêm 1\n",
    "        else:\n",
    "            # Nếu không có trùng khớp đủ 75%, MRR = 0 cho văn bản này\n",
    "            mrr += 0\n",
    "\n",
    "    # Tính MRR trung bình\n",
    "    return mrr / n\n",
    "\n",
    "# Tính MRR\n",
    "mrr_score = calculate_mrr(result_1, test)\n",
    "print(\"Mean Reciprocal Rank (MRR):\", mrr_score)\n"
   ]
  },
  {
   "cell_type": "code",
   "execution_count": 164,
   "metadata": {},
   "outputs": [
    {
     "data": {
      "text/html": [
       "<div>\n",
       "<style scoped>\n",
       "    .dataframe tbody tr th:only-of-type {\n",
       "        vertical-align: middle;\n",
       "    }\n",
       "\n",
       "    .dataframe tbody tr th {\n",
       "        vertical-align: top;\n",
       "    }\n",
       "\n",
       "    .dataframe thead th {\n",
       "        text-align: right;\n",
       "    }\n",
       "</style>\n",
       "<table border=\"1\" class=\"dataframe\">\n",
       "  <thead>\n",
       "    <tr style=\"text-align: right;\">\n",
       "      <th></th>\n",
       "      <th>Question</th>\n",
       "      <th>Relevant Documents</th>\n",
       "      <th>Văn bản tham chiếu</th>\n",
       "      <th>Score</th>\n",
       "      <th>rank</th>\n",
       "    </tr>\n",
       "  </thead>\n",
       "  <tbody>\n",
       "    <tr>\n",
       "      <th>0</th>\n",
       "      <td>Hệ thống tổ chức và quản lý đào tạo đại học tạ...</td>\n",
       "      <td>(Document(metadata={}, page_content='1. Hệ thố...</td>\n",
       "      <td>1 hệ thống tổ chức và quản lý đào tạo đại học ...</td>\n",
       "      <td>0.647771</td>\n",
       "      <td>0</td>\n",
       "    </tr>\n",
       "    <tr>\n",
       "      <th>1</th>\n",
       "      <td>Hệ thống tổ chức và quản lý đào tạo đại học tạ...</td>\n",
       "      <td>(Document(metadata={}, page_content='1. Đào tạ...</td>\n",
       "      <td>1 đào tạo chính quy được tổ chức đào tạo tập t...</td>\n",
       "      <td>0.435089</td>\n",
       "      <td>1</td>\n",
       "    </tr>\n",
       "    <tr>\n",
       "      <th>2</th>\n",
       "      <td>Hệ thống tổ chức và quản lý đào tạo đại học tạ...</td>\n",
       "      <td>(Document(metadata={}, page_content='- Chỉ đạo...</td>\n",
       "      <td>chỉ đạo và điều hành thống nhất công tác tổ c...</td>\n",
       "      <td>0.410816</td>\n",
       "      <td>2</td>\n",
       "    </tr>\n",
       "    <tr>\n",
       "      <th>3</th>\n",
       "      <td>Hệ thống tổ chức và quản lý đào tạo đại học tạ...</td>\n",
       "      <td>(Document(metadata={}, page_content='a) Quy ch...</td>\n",
       "      <td>a quy chế đào tạo đại học của đại học quốc gia...</td>\n",
       "      <td>0.403457</td>\n",
       "      <td>3</td>\n",
       "    </tr>\n",
       "    <tr>\n",
       "      <th>4</th>\n",
       "      <td>Đơn vị nào chịu trách nhiệm giảng dạy các học ...</td>\n",
       "      <td>(Document(metadata={}, page_content='a) Các họ...</td>\n",
       "      <td>a các học phần ngoại ngữ chung do trường đại h...</td>\n",
       "      <td>0.419171</td>\n",
       "      <td>0</td>\n",
       "    </tr>\n",
       "    <tr>\n",
       "      <th>...</th>\n",
       "      <td>...</td>\n",
       "      <td>...</td>\n",
       "      <td>...</td>\n",
       "      <td>...</td>\n",
       "      <td>...</td>\n",
       "    </tr>\n",
       "    <tr>\n",
       "      <th>395</th>\n",
       "      <td>Làm thế nào để đảm bảo rằng việc sử dụng kinh ...</td>\n",
       "      <td>(Document(metadata={}, page_content='Các nguồn...</td>\n",
       "      <td>các nguồn kinh phí hợp pháp dành cho công tác ...</td>\n",
       "      <td>0.383996</td>\n",
       "      <td>3</td>\n",
       "    </tr>\n",
       "    <tr>\n",
       "      <th>396</th>\n",
       "      <td>Tại sao cần phải có quy định về hệ số học phí ...</td>\n",
       "      <td>(Document(metadata={}, page_content='hj: Hệ số...</td>\n",
       "      <td>hj hệ số học phí của học phần thứ i mà sinh vi...</td>\n",
       "      <td>0.412048</td>\n",
       "      <td>0</td>\n",
       "    </tr>\n",
       "    <tr>\n",
       "      <th>397</th>\n",
       "      <td>Tại sao cần phải có quy định về hệ số học phí ...</td>\n",
       "      <td>(Document(metadata={}, page_content='- Thủ trư...</td>\n",
       "      <td>thủ trưởng đơn vị đào tạo xây dựng định mức h...</td>\n",
       "      <td>0.374120</td>\n",
       "      <td>1</td>\n",
       "    </tr>\n",
       "    <tr>\n",
       "      <th>398</th>\n",
       "      <td>Tại sao cần phải có quy định về hệ số học phí ...</td>\n",
       "      <td>(Document(metadata={}, page_content='M: Số học...</td>\n",
       "      <td>m số học phí phải nộp</td>\n",
       "      <td>0.340656</td>\n",
       "      <td>2</td>\n",
       "    </tr>\n",
       "    <tr>\n",
       "      <th>399</th>\n",
       "      <td>Tại sao cần phải có quy định về hệ số học phí ...</td>\n",
       "      <td>(Document(metadata={}, page_content='- Học phí...</td>\n",
       "      <td>học phí được tính theo công thức</td>\n",
       "      <td>0.329969</td>\n",
       "      <td>3</td>\n",
       "    </tr>\n",
       "  </tbody>\n",
       "</table>\n",
       "<p>400 rows × 5 columns</p>\n",
       "</div>"
      ],
      "text/plain": [
       "                                              Question  \\\n",
       "0    Hệ thống tổ chức và quản lý đào tạo đại học tạ...   \n",
       "1    Hệ thống tổ chức và quản lý đào tạo đại học tạ...   \n",
       "2    Hệ thống tổ chức và quản lý đào tạo đại học tạ...   \n",
       "3    Hệ thống tổ chức và quản lý đào tạo đại học tạ...   \n",
       "4    Đơn vị nào chịu trách nhiệm giảng dạy các học ...   \n",
       "..                                                 ...   \n",
       "395  Làm thế nào để đảm bảo rằng việc sử dụng kinh ...   \n",
       "396  Tại sao cần phải có quy định về hệ số học phí ...   \n",
       "397  Tại sao cần phải có quy định về hệ số học phí ...   \n",
       "398  Tại sao cần phải có quy định về hệ số học phí ...   \n",
       "399  Tại sao cần phải có quy định về hệ số học phí ...   \n",
       "\n",
       "                                    Relevant Documents  \\\n",
       "0    (Document(metadata={}, page_content='1. Hệ thố...   \n",
       "1    (Document(metadata={}, page_content='1. Đào tạ...   \n",
       "2    (Document(metadata={}, page_content='- Chỉ đạo...   \n",
       "3    (Document(metadata={}, page_content='a) Quy ch...   \n",
       "4    (Document(metadata={}, page_content='a) Các họ...   \n",
       "..                                                 ...   \n",
       "395  (Document(metadata={}, page_content='Các nguồn...   \n",
       "396  (Document(metadata={}, page_content='hj: Hệ số...   \n",
       "397  (Document(metadata={}, page_content='- Thủ trư...   \n",
       "398  (Document(metadata={}, page_content='M: Số học...   \n",
       "399  (Document(metadata={}, page_content='- Học phí...   \n",
       "\n",
       "                                    Văn bản tham chiếu     Score  rank  \n",
       "0    1 hệ thống tổ chức và quản lý đào tạo đại học ...  0.647771     0  \n",
       "1    1 đào tạo chính quy được tổ chức đào tạo tập t...  0.435089     1  \n",
       "2     chỉ đạo và điều hành thống nhất công tác tổ c...  0.410816     2  \n",
       "3    a quy chế đào tạo đại học của đại học quốc gia...  0.403457     3  \n",
       "4    a các học phần ngoại ngữ chung do trường đại h...  0.419171     0  \n",
       "..                                                 ...       ...   ...  \n",
       "395  các nguồn kinh phí hợp pháp dành cho công tác ...  0.383996     3  \n",
       "396  hj hệ số học phí của học phần thứ i mà sinh vi...  0.412048     0  \n",
       "397   thủ trưởng đơn vị đào tạo xây dựng định mức h...  0.374120     1  \n",
       "398                              m số học phí phải nộp  0.340656     2  \n",
       "399                   học phí được tính theo công thức  0.329969     3  \n",
       "\n",
       "[400 rows x 5 columns]"
      ]
     },
     "execution_count": 164,
     "metadata": {},
     "output_type": "execute_result"
    }
   ],
   "source": [
    "result_1"
   ]
  }
 ],
 "metadata": {
  "kernelspec": {
   "display_name": "Python 3",
   "language": "python",
   "name": "python3"
  },
  "language_info": {
   "codemirror_mode": {
    "name": "ipython",
    "version": 3
   },
   "file_extension": ".py",
   "mimetype": "text/x-python",
   "name": "python",
   "nbconvert_exporter": "python",
   "pygments_lexer": "ipython3",
   "version": "3.11.9"
  }
 },
 "nbformat": 4,
 "nbformat_minor": 2
}
